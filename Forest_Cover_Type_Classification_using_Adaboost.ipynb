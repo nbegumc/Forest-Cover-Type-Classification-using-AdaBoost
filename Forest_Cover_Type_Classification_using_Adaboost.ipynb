{
  "nbformat": 4,
  "nbformat_minor": 0,
  "metadata": {
    "colab": {
      "name": "Forest Cover Type Classification_using_Adaboost.ipynb",
      "provenance": [],
      "collapsed_sections": [],
      "mount_file_id": "12v0QCDvafQ_mrAU2kl09eKQoo0ZYIjFE",
      "authorship_tag": "ABX9TyM6vjj3d9Ibs1njV3e7bsTM",
      "include_colab_link": true
    },
    "kernelspec": {
      "display_name": "Python 3",
      "name": "python3"
    },
    "language_info": {
      "name": "python"
    }
  },
  "cells": [
    {
      "cell_type": "markdown",
      "metadata": {
        "id": "view-in-github",
        "colab_type": "text"
      },
      "source": [
        "<a href=\"https://colab.research.google.com/github/nbegumc/Forest-cover-type-classification-using-AdaBoost/blob/main/Forest_Cover_Type_Classification_using_Adaboost.ipynb\" target=\"_parent\"><img src=\"https://colab.research.google.com/assets/colab-badge.svg\" alt=\"Open In Colab\"/></a>"
      ]
    },
    {
      "cell_type": "markdown",
      "metadata": {
        "id": "eAZIk7vUZidN"
      },
      "source": [
        "# **Machine Learning** / 2020-21 <br>\n",
        "  ## Master in Data Science and Economics <br>\n",
        "     Nazli Begum Cirpanli - 942345\n",
        "\n",
        "> # **Forest Cover Type Classification Using AdaBoost**"
      ]
    },
    {
      "cell_type": "code",
      "metadata": {
        "id": "5iE0qO9ObkvX"
      },
      "source": [
        "import pandas as pd\n",
        "import numpy as np\n",
        "import seaborn as sns\n",
        "import matplotlib\n",
        "import matplotlib.pyplot as plt\n",
        "from sklearn.tree import DecisionTreeClassifier\n",
        "from sklearn.model_selection import train_test_split, GridSearchCV, cross_val_score, validation_curve, learning_curve\n",
        "from sklearn import datasets\n",
        "from sklearn.model_selection import train_test_split\n",
        "from sklearn import metrics\n",
        "from sklearn.metrics import accuracy_score"
      ],
      "execution_count": 1,
      "outputs": []
    },
    {
      "cell_type": "markdown",
      "metadata": {
        "id": "xMAttA1Ayjr3"
      },
      "source": [
        "## Importing the Dataset from Kaggle"
      ]
    },
    {
      "cell_type": "code",
      "metadata": {
        "colab": {
          "base_uri": "https://localhost:8080/"
        },
        "id": "AkU4DsjOW0DU",
        "outputId": "67a143de-5ef7-429e-d371-d3ca6641090b"
      },
      "source": [
        "!pip install kaggle"
      ],
      "execution_count": 3,
      "outputs": [
        {
          "output_type": "stream",
          "name": "stdout",
          "text": [
            "Requirement already satisfied: kaggle in /usr/local/lib/python3.7/dist-packages (1.5.12)\n",
            "Requirement already satisfied: python-dateutil in /usr/local/lib/python3.7/dist-packages (from kaggle) (2.8.2)\n",
            "Requirement already satisfied: requests in /usr/local/lib/python3.7/dist-packages (from kaggle) (2.23.0)\n",
            "Requirement already satisfied: certifi in /usr/local/lib/python3.7/dist-packages (from kaggle) (2021.10.8)\n",
            "Requirement already satisfied: tqdm in /usr/local/lib/python3.7/dist-packages (from kaggle) (4.62.3)\n",
            "Requirement already satisfied: urllib3 in /usr/local/lib/python3.7/dist-packages (from kaggle) (1.24.3)\n",
            "Requirement already satisfied: python-slugify in /usr/local/lib/python3.7/dist-packages (from kaggle) (5.0.2)\n",
            "Requirement already satisfied: six>=1.10 in /usr/local/lib/python3.7/dist-packages (from kaggle) (1.15.0)\n",
            "Requirement already satisfied: text-unidecode>=1.3 in /usr/local/lib/python3.7/dist-packages (from python-slugify->kaggle) (1.3)\n",
            "Requirement already satisfied: idna<3,>=2.5 in /usr/local/lib/python3.7/dist-packages (from requests->kaggle) (2.10)\n",
            "Requirement already satisfied: chardet<4,>=3.0.2 in /usr/local/lib/python3.7/dist-packages (from requests->kaggle) (3.0.4)\n"
          ]
        }
      ]
    },
    {
      "cell_type": "code",
      "metadata": {
        "colab": {
          "resources": {
            "http://localhost:8080/nbextensions/google.colab/files.js": {
              "data": "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",
              "ok": true,
              "headers": [
                [
                  "content-type",
                  "application/javascript"
                ]
              ],
              "status": 200,
              "status_text": ""
            }
          },
          "base_uri": "https://localhost:8080/",
          "height": 89
        },
        "id": "jlYEUzdwW3hp",
        "outputId": "a283d595-e60e-4626-95fc-917b13b72f50"
      },
      "source": [
        "from google.colab import files\n",
        "files.upload()"
      ],
      "execution_count": 4,
      "outputs": [
        {
          "output_type": "display_data",
          "data": {
            "text/html": [
              "\n",
              "     <input type=\"file\" id=\"files-9ec272bc-1faa-4e77-9043-9e991bd93a72\" name=\"files[]\" multiple disabled\n",
              "        style=\"border:none\" />\n",
              "     <output id=\"result-9ec272bc-1faa-4e77-9043-9e991bd93a72\">\n",
              "      Upload widget is only available when the cell has been executed in the\n",
              "      current browser session. Please rerun this cell to enable.\n",
              "      </output>\n",
              "      <script src=\"/nbextensions/google.colab/files.js\"></script> "
            ],
            "text/plain": [
              "<IPython.core.display.HTML object>"
            ]
          },
          "metadata": {}
        },
        {
          "output_type": "stream",
          "name": "stdout",
          "text": [
            "Saving kaggle.json to kaggle.json\n"
          ]
        },
        {
          "output_type": "execute_result",
          "data": {
            "text/plain": [
              "{'kaggle.json': b'{\"username\":\"nazlbe\",\"key\":\"91a835680d578840698c3fa308f3eaee\"}'}"
            ]
          },
          "metadata": {},
          "execution_count": 4
        }
      ]
    },
    {
      "cell_type": "code",
      "metadata": {
        "id": "pHJ3wELQXE7b"
      },
      "source": [
        "!pip install -q kaggle\n",
        "!mkdir -p ~/.kaggle\n",
        "!cp kaggle.json ~/.kaggle/"
      ],
      "execution_count": 5,
      "outputs": []
    },
    {
      "cell_type": "code",
      "metadata": {
        "colab": {
          "base_uri": "https://localhost:8080/"
        },
        "id": "Nw5Q5RehXKZA",
        "outputId": "570d5572-aea2-40ae-bf04-079291eb23f5"
      },
      "source": [
        "!kaggle datasets download -d uciml/forest-cover-type-dataset"
      ],
      "execution_count": 6,
      "outputs": [
        {
          "output_type": "stream",
          "name": "stdout",
          "text": [
            "Warning: Your Kaggle API key is readable by other users on this system! To fix this, you can run 'chmod 600 /root/.kaggle/kaggle.json'\n",
            "Downloading forest-cover-type-dataset.zip to /content\n",
            " 89% 10.0M/11.2M [00:00<00:00, 42.9MB/s]\n",
            "100% 11.2M/11.2M [00:00<00:00, 44.5MB/s]\n"
          ]
        }
      ]
    },
    {
      "cell_type": "code",
      "metadata": {
        "colab": {
          "base_uri": "https://localhost:8080/"
        },
        "id": "-D-kFutfX5k9",
        "outputId": "3982a8b3-eaf8-481b-fb77-3e0861cd3cbf"
      },
      "source": [
        "!unzip forest-cover-type-dataset.zip"
      ],
      "execution_count": 7,
      "outputs": [
        {
          "output_type": "stream",
          "name": "stdout",
          "text": [
            "Archive:  forest-cover-type-dataset.zip\n",
            "  inflating: covtype.csv             \n"
          ]
        }
      ]
    },
    {
      "cell_type": "code",
      "metadata": {
        "colab": {
          "base_uri": "https://localhost:8080/"
        },
        "id": "VTHCHFYVYB1Q",
        "outputId": "97c15d7b-3c6b-42bd-f120-7dc1a19af6e4"
      },
      "source": [
        "# checking whether all the files have been downloaded to the directory\n",
        "!ls"
      ],
      "execution_count": 8,
      "outputs": [
        {
          "output_type": "stream",
          "name": "stdout",
          "text": [
            "covtype.csv  forest-cover-type-dataset.zip  kaggle.json  sample_data\n"
          ]
        }
      ]
    },
    {
      "cell_type": "markdown",
      "metadata": {
        "id": "7prgC-vLytmJ"
      },
      "source": [
        "## **Dataset**\n",
        "\n",
        "Forest cover type dataset, contains 54 attributes all of which are cartographic measures representing four wilderness areas located in the Roosevelt National Forest of northern Colorado. \n",
        "\n",
        "There are 10 quantitative and 44 binary variables. Target variable is cover type\n",
        "which is also a quantitative variable ranging from 1 to 7. "
      ]
    },
    {
      "cell_type": "code",
      "metadata": {
        "colab": {
          "base_uri": "https://localhost:8080/"
        },
        "id": "2oNLC7ESby3n",
        "outputId": "a3e9f57d-600e-4fc4-b6f2-37aa2ff7e6d6"
      },
      "source": [
        "data= pd.read_csv('covtype.csv')\n",
        "data.info()\n",
        "data.shape\n",
        "data.head"
      ],
      "execution_count": 9,
      "outputs": [
        {
          "output_type": "stream",
          "name": "stdout",
          "text": [
            "<class 'pandas.core.frame.DataFrame'>\n",
            "RangeIndex: 581012 entries, 0 to 581011\n",
            "Data columns (total 55 columns):\n",
            " #   Column                              Non-Null Count   Dtype\n",
            "---  ------                              --------------   -----\n",
            " 0   Elevation                           581012 non-null  int64\n",
            " 1   Aspect                              581012 non-null  int64\n",
            " 2   Slope                               581012 non-null  int64\n",
            " 3   Horizontal_Distance_To_Hydrology    581012 non-null  int64\n",
            " 4   Vertical_Distance_To_Hydrology      581012 non-null  int64\n",
            " 5   Horizontal_Distance_To_Roadways     581012 non-null  int64\n",
            " 6   Hillshade_9am                       581012 non-null  int64\n",
            " 7   Hillshade_Noon                      581012 non-null  int64\n",
            " 8   Hillshade_3pm                       581012 non-null  int64\n",
            " 9   Horizontal_Distance_To_Fire_Points  581012 non-null  int64\n",
            " 10  Wilderness_Area1                    581012 non-null  int64\n",
            " 11  Wilderness_Area2                    581012 non-null  int64\n",
            " 12  Wilderness_Area3                    581012 non-null  int64\n",
            " 13  Wilderness_Area4                    581012 non-null  int64\n",
            " 14  Soil_Type1                          581012 non-null  int64\n",
            " 15  Soil_Type2                          581012 non-null  int64\n",
            " 16  Soil_Type3                          581012 non-null  int64\n",
            " 17  Soil_Type4                          581012 non-null  int64\n",
            " 18  Soil_Type5                          581012 non-null  int64\n",
            " 19  Soil_Type6                          581012 non-null  int64\n",
            " 20  Soil_Type7                          581012 non-null  int64\n",
            " 21  Soil_Type8                          581012 non-null  int64\n",
            " 22  Soil_Type9                          581012 non-null  int64\n",
            " 23  Soil_Type10                         581012 non-null  int64\n",
            " 24  Soil_Type11                         581012 non-null  int64\n",
            " 25  Soil_Type12                         581012 non-null  int64\n",
            " 26  Soil_Type13                         581012 non-null  int64\n",
            " 27  Soil_Type14                         581012 non-null  int64\n",
            " 28  Soil_Type15                         581012 non-null  int64\n",
            " 29  Soil_Type16                         581012 non-null  int64\n",
            " 30  Soil_Type17                         581012 non-null  int64\n",
            " 31  Soil_Type18                         581012 non-null  int64\n",
            " 32  Soil_Type19                         581012 non-null  int64\n",
            " 33  Soil_Type20                         581012 non-null  int64\n",
            " 34  Soil_Type21                         581012 non-null  int64\n",
            " 35  Soil_Type22                         581012 non-null  int64\n",
            " 36  Soil_Type23                         581012 non-null  int64\n",
            " 37  Soil_Type24                         581012 non-null  int64\n",
            " 38  Soil_Type25                         581012 non-null  int64\n",
            " 39  Soil_Type26                         581012 non-null  int64\n",
            " 40  Soil_Type27                         581012 non-null  int64\n",
            " 41  Soil_Type28                         581012 non-null  int64\n",
            " 42  Soil_Type29                         581012 non-null  int64\n",
            " 43  Soil_Type30                         581012 non-null  int64\n",
            " 44  Soil_Type31                         581012 non-null  int64\n",
            " 45  Soil_Type32                         581012 non-null  int64\n",
            " 46  Soil_Type33                         581012 non-null  int64\n",
            " 47  Soil_Type34                         581012 non-null  int64\n",
            " 48  Soil_Type35                         581012 non-null  int64\n",
            " 49  Soil_Type36                         581012 non-null  int64\n",
            " 50  Soil_Type37                         581012 non-null  int64\n",
            " 51  Soil_Type38                         581012 non-null  int64\n",
            " 52  Soil_Type39                         581012 non-null  int64\n",
            " 53  Soil_Type40                         581012 non-null  int64\n",
            " 54  Cover_Type                          581012 non-null  int64\n",
            "dtypes: int64(55)\n",
            "memory usage: 243.8 MB\n"
          ]
        },
        {
          "output_type": "execute_result",
          "data": {
            "text/plain": [
              "<bound method NDFrame.head of         Elevation  Aspect  Slope  ...  Soil_Type39  Soil_Type40  Cover_Type\n",
              "0            2596      51      3  ...            0            0           5\n",
              "1            2590      56      2  ...            0            0           5\n",
              "2            2804     139      9  ...            0            0           2\n",
              "3            2785     155     18  ...            0            0           2\n",
              "4            2595      45      2  ...            0            0           5\n",
              "...           ...     ...    ...  ...          ...          ...         ...\n",
              "581007       2396     153     20  ...            0            0           3\n",
              "581008       2391     152     19  ...            0            0           3\n",
              "581009       2386     159     17  ...            0            0           3\n",
              "581010       2384     170     15  ...            0            0           3\n",
              "581011       2383     165     13  ...            0            0           3\n",
              "\n",
              "[581012 rows x 55 columns]>"
            ]
          },
          "metadata": {},
          "execution_count": 9
        }
      ]
    },
    {
      "cell_type": "code",
      "metadata": {
        "colab": {
          "base_uri": "https://localhost:8080/",
          "height": 1000
        },
        "id": "6Dq7gunJby07",
        "outputId": "7d6affee-70af-4b90-a72b-cbf44ad3d691"
      },
      "source": [
        "# checking, again, for the missing values\n",
        "data.isna().sum()"
      ],
      "execution_count": 10,
      "outputs": [
        {
          "output_type": "execute_result",
          "data": {
            "text/plain": [
              "Elevation                             0\n",
              "Aspect                                0\n",
              "Slope                                 0\n",
              "Horizontal_Distance_To_Hydrology      0\n",
              "Vertical_Distance_To_Hydrology        0\n",
              "Horizontal_Distance_To_Roadways       0\n",
              "Hillshade_9am                         0\n",
              "Hillshade_Noon                        0\n",
              "Hillshade_3pm                         0\n",
              "Horizontal_Distance_To_Fire_Points    0\n",
              "Wilderness_Area1                      0\n",
              "Wilderness_Area2                      0\n",
              "Wilderness_Area3                      0\n",
              "Wilderness_Area4                      0\n",
              "Soil_Type1                            0\n",
              "Soil_Type2                            0\n",
              "Soil_Type3                            0\n",
              "Soil_Type4                            0\n",
              "Soil_Type5                            0\n",
              "Soil_Type6                            0\n",
              "Soil_Type7                            0\n",
              "Soil_Type8                            0\n",
              "Soil_Type9                            0\n",
              "Soil_Type10                           0\n",
              "Soil_Type11                           0\n",
              "Soil_Type12                           0\n",
              "Soil_Type13                           0\n",
              "Soil_Type14                           0\n",
              "Soil_Type15                           0\n",
              "Soil_Type16                           0\n",
              "Soil_Type17                           0\n",
              "Soil_Type18                           0\n",
              "Soil_Type19                           0\n",
              "Soil_Type20                           0\n",
              "Soil_Type21                           0\n",
              "Soil_Type22                           0\n",
              "Soil_Type23                           0\n",
              "Soil_Type24                           0\n",
              "Soil_Type25                           0\n",
              "Soil_Type26                           0\n",
              "Soil_Type27                           0\n",
              "Soil_Type28                           0\n",
              "Soil_Type29                           0\n",
              "Soil_Type30                           0\n",
              "Soil_Type31                           0\n",
              "Soil_Type32                           0\n",
              "Soil_Type33                           0\n",
              "Soil_Type34                           0\n",
              "Soil_Type35                           0\n",
              "Soil_Type36                           0\n",
              "Soil_Type37                           0\n",
              "Soil_Type38                           0\n",
              "Soil_Type39                           0\n",
              "Soil_Type40                           0\n",
              "Cover_Type                            0\n",
              "dtype: int64"
            ]
          },
          "metadata": {},
          "execution_count": 10
        },
        {
          "output_type": "display_data",
          "data": {
            "image/png": "[encoded data removed]",
            "text/plain": [
              "<Figure size 432x288 with 1 Axes>"
            ]
          },
          "metadata": {
            "needs_background": "light"
          }
        }
      ]
    },
    {
      "cell_type": "code",
      "metadata": {
        "id": "Fk2ejTjSzcFT"
      },
      "source": [
        "#distribution of cover types\n",
        "ax = sns.countplot(x=\"Cover_Type\", data=data)"
      ],
      "execution_count": null,
      "outputs": []
    },
    {
      "cell_type": "code",
      "metadata": {
        "colab": {
          "base_uri": "https://localhost:8080/",
          "height": 317
        },
        "id": "FCM9aCJznfjf",
        "outputId": "8ca1cfba-d74d-446e-dd43-833530499780"
      },
      "source": [
        "data.describe()"
      ],
      "execution_count": 11,
      "outputs": [
        {
          "output_type": "execute_result",
          "data": {
            "text/html": [
              "<div>\n",
              "<style scoped>\n",
              "    .dataframe tbody tr th:only-of-type {\n",
              "        vertical-align: middle;\n",
              "    }\n",
              "\n",
              "    .dataframe tbody tr th {\n",
              "        vertical-align: top;\n",
              "    }\n",
              "\n",
              "    .dataframe thead th {\n",
              "        text-align: right;\n",
              "    }\n",
              "</style>\n",
              "<table border=\"1\" class=\"dataframe\">\n",
              "  <thead>\n",
              "    <tr style=\"text-align: right;\">\n",
              "      <th></th>\n",
              "      <th>Elevation</th>\n",
              "      <th>Aspect</th>\n",
              "      <th>Slope</th>\n",
              "      <th>Horizontal_Distance_To_Hydrology</th>\n",
              "      <th>Vertical_Distance_To_Hydrology</th>\n",
              "      <th>Horizontal_Distance_To_Roadways</th>\n",
              "      <th>Hillshade_9am</th>\n",
              "      <th>Hillshade_Noon</th>\n",
              "      <th>Hillshade_3pm</th>\n",
              "      <th>Horizontal_Distance_To_Fire_Points</th>\n",
              "      <th>Wilderness_Area1</th>\n",
              "      <th>Wilderness_Area2</th>\n",
              "      <th>Wilderness_Area3</th>\n",
              "      <th>Wilderness_Area4</th>\n",
              "      <th>Soil_Type1</th>\n",
              "      <th>Soil_Type2</th>\n",
              "      <th>Soil_Type3</th>\n",
              "      <th>Soil_Type4</th>\n",
              "      <th>Soil_Type5</th>\n",
              "      <th>Soil_Type6</th>\n",
              "      <th>Soil_Type7</th>\n",
              "      <th>Soil_Type8</th>\n",
              "      <th>Soil_Type9</th>\n",
              "      <th>Soil_Type10</th>\n",
              "      <th>Soil_Type11</th>\n",
              "      <th>Soil_Type12</th>\n",
              "      <th>Soil_Type13</th>\n",
              "      <th>Soil_Type14</th>\n",
              "      <th>Soil_Type15</th>\n",
              "      <th>Soil_Type16</th>\n",
              "      <th>Soil_Type17</th>\n",
              "      <th>Soil_Type18</th>\n",
              "      <th>Soil_Type19</th>\n",
              "      <th>Soil_Type20</th>\n",
              "      <th>Soil_Type21</th>\n",
              "      <th>Soil_Type22</th>\n",
              "      <th>Soil_Type23</th>\n",
              "      <th>Soil_Type24</th>\n",
              "      <th>Soil_Type25</th>\n",
              "      <th>Soil_Type26</th>\n",
              "      <th>Soil_Type27</th>\n",
              "      <th>Soil_Type28</th>\n",
              "      <th>Soil_Type29</th>\n",
              "      <th>Soil_Type30</th>\n",
              "      <th>Soil_Type31</th>\n",
              "      <th>Soil_Type32</th>\n",
              "      <th>Soil_Type33</th>\n",
              "      <th>Soil_Type34</th>\n",
              "      <th>Soil_Type35</th>\n",
              "      <th>Soil_Type36</th>\n",
              "      <th>Soil_Type37</th>\n",
              "      <th>Soil_Type38</th>\n",
              "      <th>Soil_Type39</th>\n",
              "      <th>Soil_Type40</th>\n",
              "      <th>Cover_Type</th>\n",
              "    </tr>\n",
              "  </thead>\n",
              "  <tbody>\n",
              "    <tr>\n",
              "      <th>count</th>\n",
              "      <td>581012.000000</td>\n",
              "      <td>581012.000000</td>\n",
              "      <td>581012.000000</td>\n",
              "      <td>581012.000000</td>\n",
              "      <td>581012.000000</td>\n",
              "      <td>581012.000000</td>\n",
              "      <td>581012.000000</td>\n",
              "      <td>581012.000000</td>\n",
              "      <td>581012.000000</td>\n",
              "      <td>581012.000000</td>\n",
              "      <td>581012.000000</td>\n",
              "      <td>581012.000000</td>\n",
              "      <td>581012.000000</td>\n",
              "      <td>581012.000000</td>\n",
              "      <td>581012.000000</td>\n",
              "      <td>581012.000000</td>\n",
              "      <td>581012.000000</td>\n",
              "      <td>581012.000000</td>\n",
              "      <td>581012.000000</td>\n",
              "      <td>581012.000000</td>\n",
              "      <td>581012.000000</td>\n",
              "      <td>581012.000000</td>\n",
              "      <td>581012.000000</td>\n",
              "      <td>581012.000000</td>\n",
              "      <td>581012.000000</td>\n",
              "      <td>581012.000000</td>\n",
              "      <td>581012.000000</td>\n",
              "      <td>581012.000000</td>\n",
              "      <td>581012.000000</td>\n",
              "      <td>581012.000000</td>\n",
              "      <td>581012.000000</td>\n",
              "      <td>581012.000000</td>\n",
              "      <td>581012.000000</td>\n",
              "      <td>581012.000000</td>\n",
              "      <td>581012.000000</td>\n",
              "      <td>581012.000000</td>\n",
              "      <td>581012.000000</td>\n",
              "      <td>581012.000000</td>\n",
              "      <td>581012.000000</td>\n",
              "      <td>581012.000000</td>\n",
              "      <td>581012.000000</td>\n",
              "      <td>581012.000000</td>\n",
              "      <td>581012.000000</td>\n",
              "      <td>581012.000000</td>\n",
              "      <td>581012.000000</td>\n",
              "      <td>581012.000000</td>\n",
              "      <td>581012.000000</td>\n",
              "      <td>581012.000000</td>\n",
              "      <td>581012.000000</td>\n",
              "      <td>581012.000000</td>\n",
              "      <td>581012.000000</td>\n",
              "      <td>581012.000000</td>\n",
              "      <td>581012.000000</td>\n",
              "      <td>581012.000000</td>\n",
              "      <td>581012.000000</td>\n",
              "    </tr>\n",
              "    <tr>\n",
              "      <th>mean</th>\n",
              "      <td>2959.365301</td>\n",
              "      <td>155.656807</td>\n",
              "      <td>14.103704</td>\n",
              "      <td>269.428217</td>\n",
              "      <td>46.418855</td>\n",
              "      <td>2350.146611</td>\n",
              "      <td>212.146049</td>\n",
              "      <td>223.318716</td>\n",
              "      <td>142.528263</td>\n",
              "      <td>1980.291226</td>\n",
              "      <td>0.448865</td>\n",
              "      <td>0.051434</td>\n",
              "      <td>0.436074</td>\n",
              "      <td>0.063627</td>\n",
              "      <td>0.005217</td>\n",
              "      <td>0.012952</td>\n",
              "      <td>0.008301</td>\n",
              "      <td>0.021335</td>\n",
              "      <td>0.002749</td>\n",
              "      <td>0.011316</td>\n",
              "      <td>0.000181</td>\n",
              "      <td>0.000308</td>\n",
              "      <td>0.001974</td>\n",
              "      <td>0.056168</td>\n",
              "      <td>0.021359</td>\n",
              "      <td>0.051584</td>\n",
              "      <td>0.030001</td>\n",
              "      <td>0.001031</td>\n",
              "      <td>0.000005</td>\n",
              "      <td>0.004897</td>\n",
              "      <td>0.005890</td>\n",
              "      <td>0.003268</td>\n",
              "      <td>0.006921</td>\n",
              "      <td>0.015936</td>\n",
              "      <td>0.001442</td>\n",
              "      <td>0.057439</td>\n",
              "      <td>0.099399</td>\n",
              "      <td>0.036622</td>\n",
              "      <td>0.000816</td>\n",
              "      <td>0.004456</td>\n",
              "      <td>0.001869</td>\n",
              "      <td>0.001628</td>\n",
              "      <td>0.198356</td>\n",
              "      <td>0.051927</td>\n",
              "      <td>0.044175</td>\n",
              "      <td>0.090392</td>\n",
              "      <td>0.077716</td>\n",
              "      <td>0.002773</td>\n",
              "      <td>0.003255</td>\n",
              "      <td>0.000205</td>\n",
              "      <td>0.000513</td>\n",
              "      <td>0.026803</td>\n",
              "      <td>0.023762</td>\n",
              "      <td>0.015060</td>\n",
              "      <td>2.051471</td>\n",
              "    </tr>\n",
              "    <tr>\n",
              "      <th>std</th>\n",
              "      <td>279.984734</td>\n",
              "      <td>111.913721</td>\n",
              "      <td>7.488242</td>\n",
              "      <td>212.549356</td>\n",
              "      <td>58.295232</td>\n",
              "      <td>1559.254870</td>\n",
              "      <td>26.769889</td>\n",
              "      <td>19.768697</td>\n",
              "      <td>38.274529</td>\n",
              "      <td>1324.195210</td>\n",
              "      <td>0.497379</td>\n",
              "      <td>0.220882</td>\n",
              "      <td>0.495897</td>\n",
              "      <td>0.244087</td>\n",
              "      <td>0.072039</td>\n",
              "      <td>0.113066</td>\n",
              "      <td>0.090731</td>\n",
              "      <td>0.144499</td>\n",
              "      <td>0.052356</td>\n",
              "      <td>0.105775</td>\n",
              "      <td>0.013442</td>\n",
              "      <td>0.017550</td>\n",
              "      <td>0.044387</td>\n",
              "      <td>0.230245</td>\n",
              "      <td>0.144579</td>\n",
              "      <td>0.221186</td>\n",
              "      <td>0.170590</td>\n",
              "      <td>0.032092</td>\n",
              "      <td>0.002272</td>\n",
              "      <td>0.069804</td>\n",
              "      <td>0.076518</td>\n",
              "      <td>0.057077</td>\n",
              "      <td>0.082902</td>\n",
              "      <td>0.125228</td>\n",
              "      <td>0.037950</td>\n",
              "      <td>0.232681</td>\n",
              "      <td>0.299197</td>\n",
              "      <td>0.187833</td>\n",
              "      <td>0.028551</td>\n",
              "      <td>0.066605</td>\n",
              "      <td>0.043193</td>\n",
              "      <td>0.040318</td>\n",
              "      <td>0.398762</td>\n",
              "      <td>0.221879</td>\n",
              "      <td>0.205483</td>\n",
              "      <td>0.286743</td>\n",
              "      <td>0.267725</td>\n",
              "      <td>0.052584</td>\n",
              "      <td>0.056957</td>\n",
              "      <td>0.014310</td>\n",
              "      <td>0.022641</td>\n",
              "      <td>0.161508</td>\n",
              "      <td>0.152307</td>\n",
              "      <td>0.121791</td>\n",
              "      <td>1.396504</td>\n",
              "    </tr>\n",
              "    <tr>\n",
              "      <th>min</th>\n",
              "      <td>1859.000000</td>\n",
              "      <td>0.000000</td>\n",
              "      <td>0.000000</td>\n",
              "      <td>0.000000</td>\n",
              "      <td>-173.000000</td>\n",
              "      <td>0.000000</td>\n",
              "      <td>0.000000</td>\n",
              "      <td>0.000000</td>\n",
              "      <td>0.000000</td>\n",
              "      <td>0.000000</td>\n",
              "      <td>0.000000</td>\n",
              "      <td>0.000000</td>\n",
              "      <td>0.000000</td>\n",
              "      <td>0.000000</td>\n",
              "      <td>0.000000</td>\n",
              "      <td>0.000000</td>\n",
              "      <td>0.000000</td>\n",
              "      <td>0.000000</td>\n",
              "      <td>0.000000</td>\n",
              "      <td>0.000000</td>\n",
              "      <td>0.000000</td>\n",
              "      <td>0.000000</td>\n",
              "      <td>0.000000</td>\n",
              "      <td>0.000000</td>\n",
              "      <td>0.000000</td>\n",
              "      <td>0.000000</td>\n",
              "      <td>0.000000</td>\n",
              "      <td>0.000000</td>\n",
              "      <td>0.000000</td>\n",
              "      <td>0.000000</td>\n",
              "      <td>0.000000</td>\n",
              "      <td>0.000000</td>\n",
              "      <td>0.000000</td>\n",
              "      <td>0.000000</td>\n",
              "      <td>0.000000</td>\n",
              "      <td>0.000000</td>\n",
              "      <td>0.000000</td>\n",
              "      <td>0.000000</td>\n",
              "      <td>0.000000</td>\n",
              "      <td>0.000000</td>\n",
              "      <td>0.000000</td>\n",
              "      <td>0.000000</td>\n",
              "      <td>0.000000</td>\n",
              "      <td>0.000000</td>\n",
              "      <td>0.000000</td>\n",
              "      <td>0.000000</td>\n",
              "      <td>0.000000</td>\n",
              "      <td>0.000000</td>\n",
              "      <td>0.000000</td>\n",
              "      <td>0.000000</td>\n",
              "      <td>0.000000</td>\n",
              "      <td>0.000000</td>\n",
              "      <td>0.000000</td>\n",
              "      <td>0.000000</td>\n",
              "      <td>1.000000</td>\n",
              "    </tr>\n",
              "    <tr>\n",
              "      <th>25%</th>\n",
              "      <td>2809.000000</td>\n",
              "      <td>58.000000</td>\n",
              "      <td>9.000000</td>\n",
              "      <td>108.000000</td>\n",
              "      <td>7.000000</td>\n",
              "      <td>1106.000000</td>\n",
              "      <td>198.000000</td>\n",
              "      <td>213.000000</td>\n",
              "      <td>119.000000</td>\n",
              "      <td>1024.000000</td>\n",
              "      <td>0.000000</td>\n",
              "      <td>0.000000</td>\n",
              "      <td>0.000000</td>\n",
              "      <td>0.000000</td>\n",
              "      <td>0.000000</td>\n",
              "      <td>0.000000</td>\n",
              "      <td>0.000000</td>\n",
              "      <td>0.000000</td>\n",
              "      <td>0.000000</td>\n",
              "      <td>0.000000</td>\n",
              "      <td>0.000000</td>\n",
              "      <td>0.000000</td>\n",
              "      <td>0.000000</td>\n",
              "      <td>0.000000</td>\n",
              "      <td>0.000000</td>\n",
              "      <td>0.000000</td>\n",
              "      <td>0.000000</td>\n",
              "      <td>0.000000</td>\n",
              "      <td>0.000000</td>\n",
              "      <td>0.000000</td>\n",
              "      <td>0.000000</td>\n",
              "      <td>0.000000</td>\n",
              "      <td>0.000000</td>\n",
              "      <td>0.000000</td>\n",
              "      <td>0.000000</td>\n",
              "      <td>0.000000</td>\n",
              "      <td>0.000000</td>\n",
              "      <td>0.000000</td>\n",
              "      <td>0.000000</td>\n",
              "      <td>0.000000</td>\n",
              "      <td>0.000000</td>\n",
              "      <td>0.000000</td>\n",
              "      <td>0.000000</td>\n",
              "      <td>0.000000</td>\n",
              "      <td>0.000000</td>\n",
              "      <td>0.000000</td>\n",
              "      <td>0.000000</td>\n",
              "      <td>0.000000</td>\n",
              "      <td>0.000000</td>\n",
              "      <td>0.000000</td>\n",
              "      <td>0.000000</td>\n",
              "      <td>0.000000</td>\n",
              "      <td>0.000000</td>\n",
              "      <td>0.000000</td>\n",
              "      <td>1.000000</td>\n",
              "    </tr>\n",
              "    <tr>\n",
              "      <th>50%</th>\n",
              "      <td>2996.000000</td>\n",
              "      <td>127.000000</td>\n",
              "      <td>13.000000</td>\n",
              "      <td>218.000000</td>\n",
              "      <td>30.000000</td>\n",
              "      <td>1997.000000</td>\n",
              "      <td>218.000000</td>\n",
              "      <td>226.000000</td>\n",
              "      <td>143.000000</td>\n",
              "      <td>1710.000000</td>\n",
              "      <td>0.000000</td>\n",
              "      <td>0.000000</td>\n",
              "      <td>0.000000</td>\n",
              "      <td>0.000000</td>\n",
              "      <td>0.000000</td>\n",
              "      <td>0.000000</td>\n",
              "      <td>0.000000</td>\n",
              "      <td>0.000000</td>\n",
              "      <td>0.000000</td>\n",
              "      <td>0.000000</td>\n",
              "      <td>0.000000</td>\n",
              "      <td>0.000000</td>\n",
              "      <td>0.000000</td>\n",
              "      <td>0.000000</td>\n",
              "      <td>0.000000</td>\n",
              "      <td>0.000000</td>\n",
              "      <td>0.000000</td>\n",
              "      <td>0.000000</td>\n",
              "      <td>0.000000</td>\n",
              "      <td>0.000000</td>\n",
              "      <td>0.000000</td>\n",
              "      <td>0.000000</td>\n",
              "      <td>0.000000</td>\n",
              "      <td>0.000000</td>\n",
              "      <td>0.000000</td>\n",
              "      <td>0.000000</td>\n",
              "      <td>0.000000</td>\n",
              "      <td>0.000000</td>\n",
              "      <td>0.000000</td>\n",
              "      <td>0.000000</td>\n",
              "      <td>0.000000</td>\n",
              "      <td>0.000000</td>\n",
              "      <td>0.000000</td>\n",
              "      <td>0.000000</td>\n",
              "      <td>0.000000</td>\n",
              "      <td>0.000000</td>\n",
              "      <td>0.000000</td>\n",
              "      <td>0.000000</td>\n",
              "      <td>0.000000</td>\n",
              "      <td>0.000000</td>\n",
              "      <td>0.000000</td>\n",
              "      <td>0.000000</td>\n",
              "      <td>0.000000</td>\n",
              "      <td>0.000000</td>\n",
              "      <td>2.000000</td>\n",
              "    </tr>\n",
              "    <tr>\n",
              "      <th>75%</th>\n",
              "      <td>3163.000000</td>\n",
              "      <td>260.000000</td>\n",
              "      <td>18.000000</td>\n",
              "      <td>384.000000</td>\n",
              "      <td>69.000000</td>\n",
              "      <td>3328.000000</td>\n",
              "      <td>231.000000</td>\n",
              "      <td>237.000000</td>\n",
              "      <td>168.000000</td>\n",
              "      <td>2550.000000</td>\n",
              "      <td>1.000000</td>\n",
              "      <td>0.000000</td>\n",
              "      <td>1.000000</td>\n",
              "      <td>0.000000</td>\n",
              "      <td>0.000000</td>\n",
              "      <td>0.000000</td>\n",
              "      <td>0.000000</td>\n",
              "      <td>0.000000</td>\n",
              "      <td>0.000000</td>\n",
              "      <td>0.000000</td>\n",
              "      <td>0.000000</td>\n",
              "      <td>0.000000</td>\n",
              "      <td>0.000000</td>\n",
              "      <td>0.000000</td>\n",
              "      <td>0.000000</td>\n",
              "      <td>0.000000</td>\n",
              "      <td>0.000000</td>\n",
              "      <td>0.000000</td>\n",
              "      <td>0.000000</td>\n",
              "      <td>0.000000</td>\n",
              "      <td>0.000000</td>\n",
              "      <td>0.000000</td>\n",
              "      <td>0.000000</td>\n",
              "      <td>0.000000</td>\n",
              "      <td>0.000000</td>\n",
              "      <td>0.000000</td>\n",
              "      <td>0.000000</td>\n",
              "      <td>0.000000</td>\n",
              "      <td>0.000000</td>\n",
              "      <td>0.000000</td>\n",
              "      <td>0.000000</td>\n",
              "      <td>0.000000</td>\n",
              "      <td>0.000000</td>\n",
              "      <td>0.000000</td>\n",
              "      <td>0.000000</td>\n",
              "      <td>0.000000</td>\n",
              "      <td>0.000000</td>\n",
              "      <td>0.000000</td>\n",
              "      <td>0.000000</td>\n",
              "      <td>0.000000</td>\n",
              "      <td>0.000000</td>\n",
              "      <td>0.000000</td>\n",
              "      <td>0.000000</td>\n",
              "      <td>0.000000</td>\n",
              "      <td>2.000000</td>\n",
              "    </tr>\n",
              "    <tr>\n",
              "      <th>max</th>\n",
              "      <td>3858.000000</td>\n",
              "      <td>360.000000</td>\n",
              "      <td>66.000000</td>\n",
              "      <td>1397.000000</td>\n",
              "      <td>601.000000</td>\n",
              "      <td>7117.000000</td>\n",
              "      <td>254.000000</td>\n",
              "      <td>254.000000</td>\n",
              "      <td>254.000000</td>\n",
              "      <td>7173.000000</td>\n",
              "      <td>1.000000</td>\n",
              "      <td>1.000000</td>\n",
              "      <td>1.000000</td>\n",
              "      <td>1.000000</td>\n",
              "      <td>1.000000</td>\n",
              "      <td>1.000000</td>\n",
              "      <td>1.000000</td>\n",
              "      <td>1.000000</td>\n",
              "      <td>1.000000</td>\n",
              "      <td>1.000000</td>\n",
              "      <td>1.000000</td>\n",
              "      <td>1.000000</td>\n",
              "      <td>1.000000</td>\n",
              "      <td>1.000000</td>\n",
              "      <td>1.000000</td>\n",
              "      <td>1.000000</td>\n",
              "      <td>1.000000</td>\n",
              "      <td>1.000000</td>\n",
              "      <td>1.000000</td>\n",
              "      <td>1.000000</td>\n",
              "      <td>1.000000</td>\n",
              "      <td>1.000000</td>\n",
              "      <td>1.000000</td>\n",
              "      <td>1.000000</td>\n",
              "      <td>1.000000</td>\n",
              "      <td>1.000000</td>\n",
              "      <td>1.000000</td>\n",
              "      <td>1.000000</td>\n",
              "      <td>1.000000</td>\n",
              "      <td>1.000000</td>\n",
              "      <td>1.000000</td>\n",
              "      <td>1.000000</td>\n",
              "      <td>1.000000</td>\n",
              "      <td>1.000000</td>\n",
              "      <td>1.000000</td>\n",
              "      <td>1.000000</td>\n",
              "      <td>1.000000</td>\n",
              "      <td>1.000000</td>\n",
              "      <td>1.000000</td>\n",
              "      <td>1.000000</td>\n",
              "      <td>1.000000</td>\n",
              "      <td>1.000000</td>\n",
              "      <td>1.000000</td>\n",
              "      <td>1.000000</td>\n",
              "      <td>7.000000</td>\n",
              "    </tr>\n",
              "  </tbody>\n",
              "</table>\n",
              "</div>"
            ],
            "text/plain": [
              "           Elevation         Aspect  ...    Soil_Type40     Cover_Type\n",
              "count  581012.000000  581012.000000  ...  581012.000000  581012.000000\n",
              "mean     2959.365301     155.656807  ...       0.015060       2.051471\n",
              "std       279.984734     111.913721  ...       0.121791       1.396504\n",
              "min      1859.000000       0.000000  ...       0.000000       1.000000\n",
              "25%      2809.000000      58.000000  ...       0.000000       1.000000\n",
              "50%      2996.000000     127.000000  ...       0.000000       2.000000\n",
              "75%      3163.000000     260.000000  ...       0.000000       2.000000\n",
              "max      3858.000000     360.000000  ...       1.000000       7.000000\n",
              "\n",
              "[8 rows x 55 columns]"
            ]
          },
          "metadata": {},
          "execution_count": 11
        }
      ]
    },
    {
      "cell_type": "markdown",
      "metadata": {
        "id": "Plml6L9jzpyX"
      },
      "source": [
        "## **Predicting Cover Types with Adaboost**"
      ]
    },
    {
      "cell_type": "code",
      "metadata": {
        "id": "Mw1DqiLpbyyJ"
      },
      "source": [
        "X = data.drop(columns=['Cover_Type']).values\n",
        "y = data['Cover_Type'].values\n",
        "X_train, X_test, y_train, y_test = train_test_split(X,y,test_size=0.3,random_state=42,stratify=y)"
      ],
      "execution_count": 13,
      "outputs": []
    },
    {
      "cell_type": "code",
      "metadata": {
        "colab": {
          "base_uri": "https://localhost:8080/"
        },
        "id": "r1X8jE_VlOox",
        "outputId": "af64e789-1671-4a91-b171-e7755214e399"
      },
      "source": [
        "np.isnan(X_train).any(), np.isnan(y).any()"
      ],
      "execution_count": 14,
      "outputs": [
        {
          "output_type": "execute_result",
          "data": {
            "text/plain": [
              "(False, False)"
            ]
          },
          "metadata": {},
          "execution_count": 14
        }
      ]
    },
    {
      "cell_type": "code",
      "metadata": {
        "id": "IcOzyJqBdB1K"
      },
      "source": [
        "class adaboost_multi:\n",
        "\n",
        "  def __init__(self,n_learners=1):\n",
        "    \n",
        "    self.num_classes = np.unique(y)\n",
        "    self.n_learners =n_learners\n",
        "    self.alfas=None\n",
        "    self.learners=None\n",
        "    \n",
        "    \n",
        "\n",
        "  def __str__(self):\n",
        "    return '%.d classes - %.d learners' % (self.num_classes,self.n_learners)\n",
        "\n",
        "  def fit(self,X,y):\n",
        "    \n",
        "    m = X.shape[0]\n",
        "    \n",
        "    self.all_aphas=[]\n",
        "    self.all_learners=[]\n",
        "    \n",
        "    for c in np.unique(y):\n",
        "      \n",
        "      y_temp = y.copy()\n",
        "  \n",
        "      index_i = y_temp == c\n",
        "      y_temp[index_i] = 1\n",
        "      y_temp[~index_i] = -1\n",
        "                                 \n",
        "      learners = []\n",
        "      alphas = []\n",
        "      sample_weights = np.zeros(shape=(self.n_learners, m))\n",
        "      sample_weights[0] = np.ones(shape=m)/m  ###Initialize weights \n",
        "      \n",
        "      for t in range(self.n_learners):\n",
        "\n",
        "        ht = DecisionTreeClassifier(max_depth=1, max_leaf_nodes=2)\n",
        "        ht.fit(X, y_temp,sample_weight=sample_weights[t])\n",
        "        preds = ht.predict(X)\n",
        "\n",
        "                         \n",
        "        error = sample_weights[t][(preds != y_temp)].sum() # loss function\n",
        "        \n",
        "        if error in [0,0.5,1]:\n",
        "          break\n",
        "        \n",
        "        alpha = 0.5* np.log((1 - error) / (error)) #wi for hi\n",
        "\n",
        "        next_weights = sample_weights[t] * np.exp(-alpha * y_temp * preds)\n",
        "        next_weights /= next_weights.sum()\n",
        "\n",
        "        if t + 1 < self.n_learners:\n",
        "            sample_weights[t + 1] = next_weights\n",
        "\n",
        "        learners.append(ht)\n",
        "        alphas.append(alpha)\n",
        "\n",
        "      self.all_aphas.append(alphas)\n",
        "      self.all_learners.append(learners)\n",
        "  \n",
        "   \n",
        "\n",
        "  def predict(self,X):\n",
        "    c=np.unique(y)\n",
        "\n",
        "    all_learners=self.all_learners\n",
        "    prediction=np.array([[ht.predict(X) for ht in group] for group in all_learners])\n",
        "    \n",
        "    w_majority=[]\n",
        "    for p in c:\n",
        "      weighted_majority=np.sign(np.dot(self.all_aphas[p-1],prediction[p-1]))\n",
        "      w_majority.append(weighted_majority)\n",
        "    w_majority=np.asarray(w_majority) \n",
        "  \n",
        "    categories=np.unique(y)\n",
        "    \n",
        "    final=categories[np.argmax(w_majority,axis=0)]\n",
        "    \n",
        "    return final\n",
        "\n",
        "  def score(self, y_true, y_pred):\n",
        "    return accuracy_score(y_true, y_pred)\n",
        "\n",
        "  def get_error_rate(self,pred, y):\n",
        "    return sum(pred != y) / float(len(y))\n",
        "\n"
      ],
      "execution_count": 21,
      "outputs": []
    },
    {
      "cell_type": "code",
      "metadata": {
        "id": "DiaOHeN8q9Q8"
      },
      "source": [
        "adaboost_clf=adaboost_multi(100)"
      ],
      "execution_count": 25,
      "outputs": []
    },
    {
      "cell_type": "code",
      "metadata": {
        "id": "MPemxM6Rq89f"
      },
      "source": [
        "adaboost_clf.fit(X_train,y_train)\n",
        "predictions=adaboost_clf.predict(X_test)"
      ],
      "execution_count": 26,
      "outputs": []
    },
    {
      "cell_type": "code",
      "metadata": {
        "colab": {
          "base_uri": "https://localhost:8080/"
        },
        "id": "QSVczP7-oyGw",
        "outputId": "28045a06-5834-4374-ff96-474b632242d2"
      },
      "source": [
        "accuracy_score(y_test,predictions)"
      ],
      "execution_count": 27,
      "outputs": [
        {
          "output_type": "execute_result",
          "data": {
            "text/plain": [
              "0.6666398935193685"
            ]
          },
          "metadata": {},
          "execution_count": 27
        }
      ]
    },
    {
      "cell_type": "code",
      "metadata": {
        "colab": {
          "base_uri": "https://localhost:8080/"
        },
        "id": "TO9vW0PfvZyW",
        "outputId": "91ea5519-1362-4c54-f574-24f5a2dc6476"
      },
      "source": [
        "print(adaboost_clf.n_learners, \"---\" , adaboost_clf.num_classes)"
      ],
      "execution_count": 31,
      "outputs": [
        {
          "output_type": "stream",
          "name": "stdout",
          "text": [
            "100 --- [1 2 3 4 5 6 7]\n"
          ]
        }
      ]
    },
    {
      "cell_type": "code",
      "metadata": {
        "colab": {
          "base_uri": "https://localhost:8080/"
        },
        "id": "8L2WlwtPwDlZ",
        "outputId": "c9d4a4e8-565d-4f73-cea7-854a73b7eb27"
      },
      "source": [
        "np.unique(predictions)"
      ],
      "execution_count": 32,
      "outputs": [
        {
          "output_type": "execute_result",
          "data": {
            "text/plain": [
              "array([1, 2, 3, 4, 7])"
            ]
          },
          "metadata": {},
          "execution_count": 32
        }
      ]
    },
    {
      "cell_type": "markdown",
      "metadata": {
        "id": "DWdyXplPwX3x"
      },
      "source": [
        "## **Different Values of the Number T of AdaBoost Rounds** \n",
        "T (number of learners) is the only parameter that can be tuned in Adaboost\n",
        "algorithm. Therefore, in order to examine the changes in the error rate with\n",
        "respect to the number of learners, algorithm has been run multiple times\n",
        "with different numbers of T. \n",
        "\n",
        "Forest Cover Type dataset has 581,012 rows, thus executing the algorithm with higher number of learners takes a lot of time. To avoid long runtimes, a sample has been taken from the original data and used for examining the accuracy rates of the classifiers with respect to changing numbers of T. 100,000 rows have been taken randomly from the data with replacement and split into train and test sets by 30% again."
      ]
    },
    {
      "cell_type": "code",
      "metadata": {
        "id": "6cQcnoEBpADF",
        "colab": {
          "base_uri": "https://localhost:8080/"
        },
        "outputId": "4a54dc9b-ab5c-4f98-eacc-5c1621844324"
      },
      "source": [
        "#smaller sample\n",
        "sample=data.sample(100000,replace=True)\n",
        "count= sample.count()  \n",
        "count"
      ],
      "execution_count": 33,
      "outputs": [
        {
          "output_type": "execute_result",
          "data": {
            "text/plain": [
              "Elevation                             100000\n",
              "Aspect                                100000\n",
              "Slope                                 100000\n",
              "Horizontal_Distance_To_Hydrology      100000\n",
              "Vertical_Distance_To_Hydrology        100000\n",
              "Horizontal_Distance_To_Roadways       100000\n",
              "Hillshade_9am                         100000\n",
              "Hillshade_Noon                        100000\n",
              "Hillshade_3pm                         100000\n",
              "Horizontal_Distance_To_Fire_Points    100000\n",
              "Wilderness_Area1                      100000\n",
              "Wilderness_Area2                      100000\n",
              "Wilderness_Area3                      100000\n",
              "Wilderness_Area4                      100000\n",
              "Soil_Type1                            100000\n",
              "Soil_Type2                            100000\n",
              "Soil_Type3                            100000\n",
              "Soil_Type4                            100000\n",
              "Soil_Type5                            100000\n",
              "Soil_Type6                            100000\n",
              "Soil_Type7                            100000\n",
              "Soil_Type8                            100000\n",
              "Soil_Type9                            100000\n",
              "Soil_Type10                           100000\n",
              "Soil_Type11                           100000\n",
              "Soil_Type12                           100000\n",
              "Soil_Type13                           100000\n",
              "Soil_Type14                           100000\n",
              "Soil_Type15                           100000\n",
              "Soil_Type16                           100000\n",
              "Soil_Type17                           100000\n",
              "Soil_Type18                           100000\n",
              "Soil_Type19                           100000\n",
              "Soil_Type20                           100000\n",
              "Soil_Type21                           100000\n",
              "Soil_Type22                           100000\n",
              "Soil_Type23                           100000\n",
              "Soil_Type24                           100000\n",
              "Soil_Type25                           100000\n",
              "Soil_Type26                           100000\n",
              "Soil_Type27                           100000\n",
              "Soil_Type28                           100000\n",
              "Soil_Type29                           100000\n",
              "Soil_Type30                           100000\n",
              "Soil_Type31                           100000\n",
              "Soil_Type32                           100000\n",
              "Soil_Type33                           100000\n",
              "Soil_Type34                           100000\n",
              "Soil_Type35                           100000\n",
              "Soil_Type36                           100000\n",
              "Soil_Type37                           100000\n",
              "Soil_Type38                           100000\n",
              "Soil_Type39                           100000\n",
              "Soil_Type40                           100000\n",
              "Cover_Type                            100000\n",
              "dtype: int64"
            ]
          },
          "metadata": {},
          "execution_count": 33
        }
      ]
    },
    {
      "cell_type": "code",
      "metadata": {
        "id": "oZIjZJbvpDTu"
      },
      "source": [
        "X = sample.drop(columns=['Cover_Type']).values\n",
        "y = sample['Cover_Type'].values\n",
        "X_train, X_test, y_train, y_test = train_test_split(X,y,test_size=0.3,random_state=42,stratify=y)"
      ],
      "execution_count": 34,
      "outputs": []
    },
    {
      "cell_type": "markdown",
      "metadata": {
        "id": "jfD6hEW0xaBZ"
      },
      "source": [
        "Accuracy rates and respective error rates with respect to number of learners\n",
        "T have been plotted below."
      ]
    },
    {
      "cell_type": "code",
      "metadata": {
        "colab": {
          "base_uri": "https://localhost:8080/"
        },
        "id": "Kq9J80RLSWC6",
        "outputId": "f4ca3998-f098-42f7-9523-b9d92d1c0c13"
      },
      "source": [
        "acc_train, acc_test = [], []\n",
        "\n",
        "for i in range(1,1000,50):    \n",
        "  adaboost_clf = adaboost_multi(i)\n",
        "  adaboost_clf.fit(X_train,y_train)\n",
        "  preds=adaboost_clf.predict(X_train)\n",
        "  acc_train.append(accuracy_score(y_train,preds))\n",
        "  preds=adaboost_clf.predict(X_test)\n",
        "  acc_test.append(accuracy_score(y_test,preds))\n",
        "acc_train, acc_test  \n"
      ],
      "execution_count": 35,
      "outputs": [
        {
          "output_type": "execute_result",
          "data": {
            "text/plain": [
              "([0.6321,\n",
              "  0.6541857142857143,\n",
              "  0.6728714285714286,\n",
              "  0.6769285714285714,\n",
              "  0.6787428571428571,\n",
              "  0.6811142857142857,\n",
              "  0.6814142857142858,\n",
              "  0.6826571428571429,\n",
              "  0.6852,\n",
              "  0.6876714285714286,\n",
              "  0.6895428571428571,\n",
              "  0.6898857142857143,\n",
              "  0.6904428571428571,\n",
              "  0.6902428571428572,\n",
              "  0.6907142857142857,\n",
              "  0.6922857142857143,\n",
              "  0.6923714285714285,\n",
              "  0.6924285714285714,\n",
              "  0.6927714285714286,\n",
              "  0.693],\n",
              " [0.6259333333333333,\n",
              "  0.6475333333333333,\n",
              "  0.6654333333333333,\n",
              "  0.6693333333333333,\n",
              "  0.6713,\n",
              "  0.6734666666666667,\n",
              "  0.6735666666666666,\n",
              "  0.6745,\n",
              "  0.6776333333333333,\n",
              "  0.6793666666666667,\n",
              "  0.6815333333333333,\n",
              "  0.6816666666666666,\n",
              "  0.6824,\n",
              "  0.6822666666666667,\n",
              "  0.6827,\n",
              "  0.6836666666666666,\n",
              "  0.6832,\n",
              "  0.6829,\n",
              "  0.6835666666666667,\n",
              "  0.6835])"
            ]
          },
          "metadata": {},
          "execution_count": 35
        }
      ]
    },
    {
      "cell_type": "code",
      "metadata": {
        "id": "ZAi2QSuuUliZ"
      },
      "source": [
        "x_axis=range(1,1000,50)"
      ],
      "execution_count": 36,
      "outputs": []
    },
    {
      "cell_type": "code",
      "metadata": {
        "id": "j_bYELr_gDro"
      },
      "source": [
        "plt.title('accuracy vs. iterations')\n",
        "plt.title('error rate vs. iterations')\n"
      ],
      "execution_count": null,
      "outputs": []
    },
    {
      "cell_type": "markdown",
      "metadata": {
        "id": "NoBRAfjtxyKV"
      },
      "source": [
        "accuracy vs. iterations"
      ]
    },
    {
      "cell_type": "code",
      "metadata": {
        "colab": {
          "base_uri": "https://localhost:8080/",
          "height": 279
        },
        "id": "_GeChLowTEdR",
        "outputId": "865303a4-bd82-4823-e284-9717ec234450"
      },
      "source": [
        "\n",
        "plt.plot(x_axis, acc_test, label='Testing accuracy')\n",
        "plt.plot(x_axis, acc_train, label='Training accuracy')\n",
        "\n",
        "\n",
        "plt.axhline(y=acc_test[0], linewidth=1, color = 'red', ls = 'dashed')\n",
        "plt.legend()\n",
        "plt.xlabel('Number of learners')\n",
        "plt.ylabel('Accuracy')\n",
        "\n",
        "plt.grid(True)\n",
        "\n",
        "plt.show()"
      ],
      "execution_count": 37,
      "outputs": [
        {
          "output_type": "display_data",
          "data": {
            "image/png": "[encoded data removed]",
            "text/plain": [
              "<Figure size 432x288 with 1 Axes>"
            ]
          },
          "metadata": {
            "needs_background": "light"
          }
        }
      ]
    },
    {
      "cell_type": "markdown",
      "metadata": {
        "id": "x-UM6l9ox5Ff"
      },
      "source": [
        "error rate vs. iterations"
      ]
    },
    {
      "cell_type": "code",
      "metadata": {
        "id": "dZGX2FIgWe7Z"
      },
      "source": [
        "err_train=[]\n",
        "for i in range(0,len(acc_train)):\n",
        "  err_train.append(1-acc_train[i])\n",
        "\n",
        "err_test=[]\n",
        "for x in range(0,len(acc_test)):\n",
        "  err_test.append(1-acc_test[x])"
      ],
      "execution_count": 38,
      "outputs": []
    },
    {
      "cell_type": "code",
      "metadata": {
        "colab": {
          "base_uri": "https://localhost:8080/",
          "height": 279
        },
        "id": "lYhBbjGMV8ip",
        "outputId": "76718d4d-1157-4cd7-df58-61d926591b72"
      },
      "source": [
        "\n",
        "plt.plot(x_axis, err_test, label='Test Error')\n",
        "plt.plot(x_axis, err_train, label='Training Error')\n",
        "\n",
        "\n",
        "plt.axhline(y=err_test[0], linewidth=1, color = 'red', ls = 'dashed')\n",
        "plt.legend()\n",
        "plt.xlabel('Number of learners')\n",
        "plt.ylabel('Error Rate')\n",
        "\n",
        "plt.grid(True)\n",
        "\n",
        "plt.show()"
      ],
      "execution_count": 39,
      "outputs": [
        {
          "output_type": "display_data",
          "data": {
            "image/png": "[encoded data removed]",
            "text/plain": [
              "<Figure size 432x288 with 1 Axes>"
            ]
          },
          "metadata": {
            "needs_background": "light"
          }
        }
      ]
    },
    {
      "cell_type": "code",
      "metadata": {
        "id": "VNwDllJ8S9Kz"
      },
      "source": [
        ""
      ],
      "execution_count": null,
      "outputs": []
    }
  ]
}